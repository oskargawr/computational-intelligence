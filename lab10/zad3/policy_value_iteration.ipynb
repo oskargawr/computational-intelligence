{
 "cells": [
  {
   "cell_type": "code",
   "execution_count": 1,
   "metadata": {},
   "outputs": [],
   "source": [
    "import gym\n",
    "import numpy as np\n",
    "import copy"
   ]
  },
  {
   "cell_type": "code",
   "execution_count": 2,
   "metadata": {},
   "outputs": [
    {
     "name": "stdout",
     "output_type": "stream",
     "text": [
      "_____OBSERVATION SPACE_____ \n",
      "\n",
      "Observation Space Discrete(16)\n",
      "Sample observation 2\n",
      "\n",
      " _____ACTION SPACE_____ \n",
      "\n",
      "Action Space Shape 4\n",
      "Action Space Sample 0\n",
      "Reward range (0, 1)\n",
      "Meta Data {'render_modes': ['human', 'ansi', 'rgb_array'], 'render_fps': 4}\n",
      "[(1.0, 2, 0.0, False)]\n",
      "{0: [(1.0, 0, 0.0, False)], 1: [(1.0, 5, 0.0, True)], 2: [(1.0, 2, 0.0, False)], 3: [(1.0, 1, 0.0, False)]}\n"
     ]
    }
   ],
   "source": [
    "seed = 0\n",
    "np.random.seed(seed)\n",
    "env = gym.make('FrozenLake-v1', desc=None, map_name=\"4x4\", is_slippery=False,render_mode='human')\n",
    "print(\"_____OBSERVATION SPACE_____ \\n\")\n",
    "print(\"Observation Space\", env.observation_space)\n",
    "print(\"Sample observation\", env.observation_space.sample())\n",
    "print(\"\\n _____ACTION SPACE_____ \\n\")\n",
    "print(\"Action Space Shape\", env.action_space.n)\n",
    "print(\"Action Space Sample\", env.action_space.sample())\n",
    "print(\"Reward range\", env.reward_range)\n",
    "print('Meta Data',env.metadata)\n",
    "print(env.P[1][2])\n",
    "# p, s`, r, done\n",
    "print(env.P[1])\n",
    "# a: p, s`, r, done"
   ]
  },
  {
   "cell_type": "markdown",
   "metadata": {},
   "source": [
    "POLICY ITERATION"
   ]
  },
  {
   "cell_type": "code",
   "execution_count": 3,
   "metadata": {},
   "outputs": [],
   "source": [
    "def policy_evaluation(policy, gamma,theta, init_V = None):\n",
    "    if init_V is None:\n",
    "        init_V = np.zeros(env.observation_space.n)\n",
    "    V = np.copy(init_V)\n",
    "    delta = np.inf\n",
    "    while delta > theta:\n",
    "        delta =0\n",
    "        for state in range(env.observation_space.n):\n",
    "            v = V[state]\n",
    "            action = policy[state]\n",
    "            V[state] = sum([trans_prob * (reward_prob + gamma * V[next_state]) \n",
    "                        for trans_prob, next_state, reward_prob, _ in env.P[state][action]])\n",
    "            delta = max(delta,abs(v-V[state]))\n",
    "    return V\n",
    "\n",
    "def policy_improvement(policy,V, gamma):\n",
    "    policy_stable = True\n",
    "    policy = np.copy(policy)\n",
    "    for state in range(env.observation_space.n):\n",
    "        old_action = policy[state]\n",
    "        Q_table = np.zeros(env.action_space.n)\n",
    "        for action in range(env.action_space.n):\n",
    "            for next_sr in env.P[state][action]: \n",
    "                trans_prob, next_state, reward_prob, _ = next_sr \n",
    "                Q_table[action] += (trans_prob * (reward_prob + gamma * V[next_state]))\n",
    "        new_action = np.argmax(Q_table)\n",
    "        policy[state] = new_action\n",
    "        if old_action != new_action:\n",
    "            policy_stable = False\n",
    "    return policy,policy_stable\n",
    "\n",
    "def policy_iteration(init_policy = None,gamma = 0.9,theta = 1e-5):\n",
    "    if init_policy is None:\n",
    "        init_policy = np.zeros(env.observation_space.n)\n",
    "    policy = np.copy(init_policy)\n",
    "    policy_stable = False\n",
    "    i = 0\n",
    "    while not policy_stable:\n",
    "        print('Loop -->',i)\n",
    "        i+=1\n",
    "        V = policy_evaluation(policy, gamma, theta)\n",
    "        policy,policy_stable = policy_improvement(policy, V, gamma)\n",
    "    print(f'Policy converged in {i} steps')\n",
    "    policy = policy.astype(int)\n",
    "    return policy, V\n"
   ]
  },
  {
   "cell_type": "code",
   "execution_count": 4,
   "metadata": {},
   "outputs": [
    {
     "name": "stdout",
     "output_type": "stream",
     "text": [
      "Loop --> 0\n",
      "Loop --> 1\n",
      "Loop --> 2\n",
      "Loop --> 3\n",
      "Loop --> 4\n",
      "Loop --> 5\n",
      "Loop --> 6\n",
      "Policy converged in 7 steps\n"
     ]
    },
    {
     "name": "stderr",
     "output_type": "stream",
     "text": [
      "2024-02-13 19:41:01.406 Python[55265:1621236] WARNING: Secure coding is not enabled for restorable state! Enable secure coding by implementing NSApplicationDelegate.applicationSupportsSecureRestorableState: and returning YES.\n",
      "/opt/homebrew/lib/python3.11/site-packages/gym/utils/passive_env_checker.py:233: DeprecationWarning: `np.bool8` is a deprecated alias for `np.bool_`.  (Deprecated NumPy 1.24)\n",
      "  if not isinstance(terminated, (bool, np.bool8)):\n"
     ]
    }
   ],
   "source": [
    "policy, V = policy_iteration()\n",
    "\n",
    "observation,_ = env.reset()\n",
    "for _ in range(1000):\n",
    "    action = policy[observation]\n",
    "    env.render()\n",
    "    observation, reward, terminated, truncated, info = env.step(action)\n",
    "    if terminated or truncated:\n",
    "        observation,_ = env.reset()\n",
    "env.close()"
   ]
  },
  {
   "cell_type": "markdown",
   "metadata": {},
   "source": [
    "VALUE ITERATION"
   ]
  },
  {
   "cell_type": "code",
   "execution_count": 24,
   "metadata": {},
   "outputs": [
    {
     "name": "stdout",
     "output_type": "stream",
     "text": [
      "Loop --> 0\n",
      "Loop --> 1\n",
      "Loop --> 2\n",
      "Loop --> 3\n",
      "Loop --> 4\n",
      "Loop --> 5\n",
      "Loop --> 6\n",
      "Policy converged in 7 steps\n"
     ]
    },
    {
     "ename": "",
     "evalue": "",
     "output_type": "error",
     "traceback": [
      "\u001b[1;31mThe Kernel crashed while executing code in the current cell or a previous cell. \n",
      "\u001b[1;31mPlease review the code in the cell(s) to identify a possible cause of the failure. \n",
      "\u001b[1;31mClick <a href='https://aka.ms/vscodeJupyterKernelCrash'>here</a> for more info. \n",
      "\u001b[1;31mView Jupyter <a href='command:jupyter.viewOutput'>log</a> for further details."
     ]
    }
   ],
   "source": [
    "def value_iteration(gamma = 0.9,theta = 1e-5,init_policy = None,init_V = None):\n",
    "    if init_V is None:\n",
    "        init_V = np.zeros(env.observation_space.n)\n",
    "    V = np.copy(init_V)\n",
    "    if init_policy is None:\n",
    "        init_policy = np.zeros(env.observation_space.n)\n",
    "    policy = np.copy(init_policy)\n",
    "    delta = np.inf\n",
    "    i=0\n",
    "    while delta > theta:\n",
    "        print('Loop -->',i)\n",
    "        i+=1\n",
    "        delta =0\n",
    "        for state in range(env.observation_space.n):\n",
    "            v = V[state]\n",
    "            Q_table = np.zeros(env.action_space.n)\n",
    "            for action in range(env.action_space.n):\n",
    "                for next_sr in env.P[state][action]: \n",
    "                    trans_prob, next_state, reward_prob, _ = next_sr \n",
    "                    Q_table[action] += (trans_prob * (reward_prob + gamma * V[next_state]))\n",
    "            new_action = np.argmax(Q_table)\n",
    "            V[state] = Q_table[new_action]\n",
    "            policy[state] = new_action\n",
    "            delta = max(delta,abs(v-V[state]))\n",
    "    print(f'Policy converged in {i} steps')\n",
    "    policy = policy.astype(int)\n",
    "    return  policy, V\n",
    "\n",
    "\n",
    "policy, V = value_iteration()\n",
    "\n",
    "\n",
    "observation,_ = env.reset()\n",
    "for _ in range(5):\n",
    "    action = policy[observation]\n",
    "    env.render()\n",
    "    observation, reward, terminated, truncated, info = env.step(action)\n",
    "    if terminated or truncated:\n",
    "        observation,_ = env.reset()\n",
    "env.close()"
   ]
  }
 ],
 "metadata": {
  "kernelspec": {
   "display_name": "Python 3",
   "language": "python",
   "name": "python3"
  },
  "language_info": {
   "codemirror_mode": {
    "name": "ipython",
    "version": 3
   },
   "file_extension": ".py",
   "mimetype": "text/x-python",
   "name": "python",
   "nbconvert_exporter": "python",
   "pygments_lexer": "ipython3",
   "version": "3.11.3"
  }
 },
 "nbformat": 4,
 "nbformat_minor": 2
}
