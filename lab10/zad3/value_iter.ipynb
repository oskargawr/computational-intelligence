{
 "cells": [
  {
   "cell_type": "code",
   "execution_count": 1,
   "metadata": {},
   "outputs": [],
   "source": [
    "import gym\n",
    "import numpy as np\n",
    "import copy"
   ]
  },
  {
   "cell_type": "code",
   "execution_count": 2,
   "metadata": {},
   "outputs": [
    {
     "name": "stdout",
     "output_type": "stream",
     "text": [
      "[(1.0, 2, 0.0, False)]\n",
      "{0: [(1.0, 0, 0.0, False)], 1: [(1.0, 5, 0.0, True)], 2: [(1.0, 2, 0.0, False)], 3: [(1.0, 1, 0.0, False)]}\n"
     ]
    }
   ],
   "source": [
    "seed = 0\n",
    "np.random.seed(seed)\n",
    "\n",
    "env = gym.make('FrozenLake-v1', desc=None, map_name=\"4x4\", is_slippery=False)\n",
    "\n",
    "print(env.P[1][2])\n",
    "print(env.P[1])"
   ]
  },
  {
   "cell_type": "code",
   "execution_count": 3,
   "metadata": {},
   "outputs": [],
   "source": [
    "def policy_evaluation(policy, gamma, theta, init_V=None):\n",
    "    if init_V is None:\n",
    "        init_V = np.zeros(env.observation_space.n)\n",
    "    V = np.copy(init_V)\n",
    "\n",
    "    delta = np.inf\n",
    "\n",
    "    while delta > theta:\n",
    "        delta = 0\n",
    "        for state in range(env.observation_space.n):\n",
    "            v = V[state]\n",
    "            action = policy[state]\n",
    "            V[state] = sum(\n",
    "                [\n",
    "                    trans_prob * (reward_prob + gamma * V[next_state])\n",
    "                    for trans_prob, next_state, reward_prob, _ in env.P[state][action]\n",
    "                ]\n",
    "            )\n",
    "            delta = max(delta, abs(v - V[state]))\n",
    "\n",
    "    return V"
   ]
  },
  {
   "cell_type": "code",
   "execution_count": 4,
   "metadata": {},
   "outputs": [],
   "source": [
    "def policy_improvement(policy, V, gamma):\n",
    "    policy_stable = True\n",
    "    policy = np.copy(policy)\n",
    "    for state in range(env.observation_space.n):\n",
    "        old_action = policy[state]\n",
    "        Q_table = np.zeros(env.action_space.n)\n",
    "        for action in range(env.action_space.n):\n",
    "            for next_sr in env.P[state][action]:\n",
    "                trans_prob, next_state, reward_prob, _ = next_sr\n",
    "                Q_table[action] += trans_prob * (reward_prob + gamma * V[next_state])\n",
    "        new_action = np.argmax(Q_table)\n",
    "        policy[state] = new_action\n",
    "        if old_action != new_action:\n",
    "            policy_stable = False\n",
    "    return policy, policy_stable"
   ]
  },
  {
   "cell_type": "code",
   "execution_count": 5,
   "metadata": {},
   "outputs": [],
   "source": [
    "def policy_iteration(init_policy=None, gamma=0.9, theta=1e-5):\n",
    "    if init_policy is None:\n",
    "        init_policy = np.zeros(env.observation_space.n)\n",
    "    policy = np.copy(init_policy)\n",
    "    policy_stable = False\n",
    "    i = 0\n",
    "    while not policy_stable:\n",
    "        print(\"Loop -->\", i)\n",
    "        i += 1\n",
    "        V = policy_evaluation(policy, gamma, theta)\n",
    "        policy, policy_stable = policy_improvement(policy, V, gamma)\n",
    "    print(f\"Policy converged in {i} steps\")\n",
    "    policy = policy.astype(int)\n",
    "    return policy, V"
   ]
  },
  {
   "cell_type": "code",
   "execution_count": 6,
   "metadata": {},
   "outputs": [
    {
     "name": "stdout",
     "output_type": "stream",
     "text": [
      "Loop --> 0\n",
      "Loop --> 1\n",
      "Loop --> 2\n",
      "Loop --> 3\n",
      "Loop --> 4\n",
      "Loop --> 5\n",
      "Loop --> 6\n",
      "Policy converged in 7 steps\n"
     ]
    },
    {
     "name": "stderr",
     "output_type": "stream",
     "text": [
      "/Library/Frameworks/Python.framework/Versions/3.10/lib/python3.10/site-packages/gym/envs/toy_text/frozen_lake.py:271: UserWarning: \u001b[33mWARN: You are calling render method without specifying any render mode. You can specify the render_mode at initialization, e.g. gym(\"FrozenLake-v1\", render_mode=\"rgb_array\")\u001b[0m\n",
      "  logger.warn(\n",
      "/Library/Frameworks/Python.framework/Versions/3.10/lib/python3.10/site-packages/gym/utils/passive_env_checker.py:233: DeprecationWarning: `np.bool8` is a deprecated alias for `np.bool_`.  (Deprecated NumPy 1.24)\n",
      "  if not isinstance(terminated, (bool, np.bool8)):\n"
     ]
    }
   ],
   "source": [
    "policy, V = policy_iteration()\n",
    "\n",
    "observation, _ = env.reset()\n",
    "for _ in range(1000):\n",
    "    action = policy[observation]\n",
    "    env.render()\n",
    "    observation, reward, terminated, truncated, info = env.step(action)\n",
    "    if terminated or truncated:\n",
    "        observation, _ = env.reset()\n",
    "env.close()"
   ]
  },
  {
   "cell_type": "code",
   "execution_count": 7,
   "metadata": {},
   "outputs": [
    {
     "name": "stdout",
     "output_type": "stream",
     "text": [
      "Loop --> 0\n",
      "Loop --> 1\n",
      "Loop --> 2\n",
      "Loop --> 3\n",
      "Loop --> 4\n",
      "Loop --> 5\n",
      "Loop --> 6\n",
      "Policy converged in 7 steps\n"
     ]
    }
   ],
   "source": [
    "def value_iteration(gamma=0.9, theta=1e-5, init_policy=None, init_V=None):\n",
    "    if init_V is None:\n",
    "        init_V = np.zeros(env.observation_space.n)\n",
    "    V = np.copy(init_V)\n",
    "    if init_policy is None:\n",
    "        init_policy = np.zeros(env.observation_space.n)\n",
    "    policy = np.copy(init_policy)\n",
    "    delta = np.inf\n",
    "    i = 0\n",
    "    while delta > theta:\n",
    "        print(\"Loop -->\", i)\n",
    "        i += 1\n",
    "        delta = 0\n",
    "        for state in range(env.observation_space.n):\n",
    "            v = V[state]\n",
    "            Q_table = np.zeros(env.action_space.n)\n",
    "            for action in range(env.action_space.n):\n",
    "                for next_sr in env.P[state][action]:\n",
    "                    trans_prob, next_state, reward_prob, _ = next_sr\n",
    "                    Q_table[action] += trans_prob * (\n",
    "                        reward_prob + gamma * V[next_state]\n",
    "                    )\n",
    "            new_action = np.argmax(Q_table)\n",
    "            V[state] = Q_table[new_action]\n",
    "            policy[state] = new_action\n",
    "            delta = max(delta, abs(v - V[state]))\n",
    "    print(f\"Policy converged in {i} steps\")\n",
    "    policy = policy.astype(int)\n",
    "    return policy, V\n",
    "\n",
    "\n",
    "policy, V = value_iteration()\n",
    "\n",
    "\n",
    "observation, _ = env.reset()\n",
    "for _ in range(5):\n",
    "    action = policy[observation]\n",
    "    env.render()\n",
    "    observation, reward, terminated, truncated, info = env.step(action)\n",
    "    if terminated or truncated:\n",
    "        observation, _ = env.reset()\n",
    "env.close()"
   ]
  }
 ],
 "metadata": {
  "kernelspec": {
   "display_name": "Python 3",
   "language": "python",
   "name": "python3"
  },
  "language_info": {
   "codemirror_mode": {
    "name": "ipython",
    "version": 3
   },
   "file_extension": ".py",
   "mimetype": "text/x-python",
   "name": "python",
   "nbconvert_exporter": "python",
   "pygments_lexer": "ipython3",
   "version": "3.10.7"
  }
 },
 "nbformat": 4,
 "nbformat_minor": 2
}
