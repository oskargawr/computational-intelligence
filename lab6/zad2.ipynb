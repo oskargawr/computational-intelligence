{
 "cells": [
  {
   "cell_type": "code",
   "execution_count": 5,
   "metadata": {},
   "outputs": [
    {
     "data": {
      "text/plain": [
       "True"
      ]
     },
     "execution_count": 5,
     "metadata": {},
     "output_type": "execute_result"
    }
   ],
   "source": [
    "# convert img to grayscale\n",
    "\n",
    "import cv2\n",
    "\n",
    "img = cv2.imread('zad2img.jpg', cv2.IMREAD_GRAYSCALE)\n",
    "cv2.imwrite('zad2img_gray.jpg', img)"
   ]
  },
  {
   "cell_type": "code",
   "execution_count": 7,
   "metadata": {},
   "outputs": [
    {
     "name": "stderr",
     "output_type": "stream",
     "text": [
      "/var/folders/__/gfdqjrkx7vnchgntyh02zn480000gn/T/ipykernel_12723/1200674591.py:9: RuntimeWarning: overflow encountered in scalar add\n",
      "  img[i][j] = round((img[i][j][0] + img[i][j][1] + img[i][j][2]) / 3)\n"
     ]
    },
    {
     "data": {
      "text/plain": [
       "True"
      ]
     },
     "execution_count": 7,
     "metadata": {},
     "output_type": "execute_result"
    }
   ],
   "source": [
    "# custom gray scale\n",
    "# gray = round((r+g+b)/3)\n",
    "\n",
    "img = cv2.imread('zad2img.jpg')\n",
    "\n",
    "def custom_gray(img):\n",
    "    for i in range(img.shape[0]):\n",
    "        for j in range(img.shape[1]):\n",
    "            img[i][j] = round((img[i][j][0] + img[i][j][1] + img[i][j][2]) / 3)\n",
    "    return img\n",
    "\n",
    "img = custom_gray(img)\n",
    "cv2.imwrite('zad2img_gray_custom.jpg', img)"
   ]
  }
 ],
 "metadata": {
  "kernelspec": {
   "display_name": "Python 3",
   "language": "python",
   "name": "python3"
  },
  "language_info": {
   "codemirror_mode": {
    "name": "ipython",
    "version": 3
   },
   "file_extension": ".py",
   "mimetype": "text/x-python",
   "name": "python",
   "nbconvert_exporter": "python",
   "pygments_lexer": "ipython3",
   "version": "3.10.7"
  }
 },
 "nbformat": 4,
 "nbformat_minor": 2
}
