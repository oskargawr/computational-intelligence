{
 "cells": [
  {
   "cell_type": "code",
   "execution_count": 21,
   "metadata": {},
   "outputs": [],
   "source": [
    "from imageai.Detection import ObjectDetection"
   ]
  },
  {
   "cell_type": "code",
   "execution_count": 22,
   "metadata": {},
   "outputs": [],
   "source": [
    "recognizer = ObjectDetection()"
   ]
  },
  {
   "cell_type": "code",
   "execution_count": 36,
   "metadata": {},
   "outputs": [],
   "source": [
    "path_model = \"./tiny-yolov3.pt\"\n",
    "path_input = \"./zad2img.jpg\"\n",
    "path_output = \"./zad2img_detected.jpg\""
   ]
  },
  {
   "cell_type": "code",
   "execution_count": 37,
   "metadata": {},
   "outputs": [],
   "source": [
    "recognizer.setModelTypeAsTinyYOLOv3()\n",
    "recognizer.setModelPath(path=path_model)\n",
    "recognizer.loadModel()\n",
    "\n",
    "recognition = recognizer.detectObjectsFromImage(\n",
    "    input_image=path_input, output_image_path=path_output\n",
    ")"
   ]
  },
  {
   "cell_type": "code",
   "execution_count": 38,
   "metadata": {},
   "outputs": [
    {
     "name": "stdout",
     "output_type": "stream",
     "text": [
      "dog  :  99.26\n"
     ]
    }
   ],
   "source": [
    "for eachObject in recognition:\n",
    "    print(eachObject[\"name\"], \" : \", eachObject[\"percentage_probability\"])"
   ]
  }
 ],
 "metadata": {
  "kernelspec": {
   "display_name": "Python 3",
   "language": "python",
   "name": "python3"
  },
  "language_info": {
   "codemirror_mode": {
    "name": "ipython",
    "version": 3
   },
   "file_extension": ".py",
   "mimetype": "text/x-python",
   "name": "python",
   "nbconvert_exporter": "python",
   "pygments_lexer": "ipython3",
   "version": "3.10.7"
  }
 },
 "nbformat": 4,
 "nbformat_minor": 2
}
