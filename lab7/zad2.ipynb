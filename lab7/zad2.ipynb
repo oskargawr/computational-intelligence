{
 "cells": [
  {
   "cell_type": "code",
   "execution_count": 16,
   "metadata": {},
   "outputs": [],
   "source": [
    "from nltk.sentiment.vader import SentimentIntensityAnalyzer\n",
    "import nltk"
   ]
  },
  {
   "cell_type": "code",
   "execution_count": 17,
   "metadata": {},
   "outputs": [
    {
     "name": "stderr",
     "output_type": "stream",
     "text": [
      "[nltk_data] Downloading package vader_lexicon to\n",
      "[nltk_data]     /Users/oskargawryszewski/nltk_data...\n",
      "[nltk_data]   Package vader_lexicon is already up-to-date!\n"
     ]
    },
    {
     "data": {
      "text/plain": [
       "True"
      ]
     },
     "execution_count": 17,
     "metadata": {},
     "output_type": "execute_result"
    }
   ],
   "source": [
    "nltk.download('vader_lexicon')"
   ]
  },
  {
   "cell_type": "code",
   "execution_count": 18,
   "metadata": {},
   "outputs": [],
   "source": [
    "positive_review = \"The hotel was absolutely amazing. The staff were extremely friendly and helpful, the rooms were clean and spacious, and the location was perfect. I would definitely stay here again and recommend it to anyone.\"\n",
    "negative_review = \"The experience was terrible. The room was dirty, the staff were rude, and the location was noisy. I will never stay here again and I would advise others to avoid it. The room was absolutey terrible and disgusting. The personel was rude and not helpful at all. Food was rotten and the location was terrible. Would not recommend to anyone!!!!\""
   ]
  },
  {
   "cell_type": "code",
   "execution_count": 19,
   "metadata": {},
   "outputs": [],
   "source": [
    "sid = SentimentIntensityAnalyzer()\n",
    "\n",
    "pos_scores = sid.polarity_scores(positive_review)\n",
    "neg_scores = sid.polarity_scores(negative_review)"
   ]
  },
  {
   "cell_type": "code",
   "execution_count": 20,
   "metadata": {},
   "outputs": [
    {
     "name": "stdout",
     "output_type": "stream",
     "text": [
      "Pozytywna opinia:\n",
      "{'neg': 0.0, 'neu': 0.539, 'pos': 0.461, 'compound': 0.9692}\n",
      "\n",
      "Negatywna opinia:\n",
      "{'neg': 0.428, 'neu': 0.572, 'pos': 0.0, 'compound': -0.9854}\n"
     ]
    }
   ],
   "source": [
    "print(\"Pozytywna opinia:\")\n",
    "print(pos_scores)\n",
    "print(\"\\nNegatywna opinia:\")\n",
    "\n",
    "print(neg_scores)"
   ]
  },
  {
   "cell_type": "code",
   "execution_count": 32,
   "metadata": {},
   "outputs": [],
   "source": [
    "from transformers import pipeline"
   ]
  },
  {
   "cell_type": "code",
   "execution_count": 33,
   "metadata": {},
   "outputs": [
    {
     "name": "stderr",
     "output_type": "stream",
     "text": [
      "No model was supplied, defaulted to distilbert/distilbert-base-uncased-finetuned-sst-2-english and revision af0f99b (https://huggingface.co/distilbert/distilbert-base-uncased-finetuned-sst-2-english).\n",
      "Using a pipeline without specifying a model name and revision in production is not recommended.\n"
     ]
    }
   ],
   "source": [
    "sentiments_analysis = pipeline(\"sentiment-analysis\")"
   ]
  },
  {
   "cell_type": "code",
   "execution_count": 34,
   "metadata": {},
   "outputs": [],
   "source": [
    "positive_result = sentiments_analysis(positive_review)\n",
    "negative_result = sentiments_analysis(negative_review)"
   ]
  },
  {
   "cell_type": "code",
   "execution_count": 35,
   "metadata": {},
   "outputs": [
    {
     "name": "stdout",
     "output_type": "stream",
     "text": [
      "Pozytywna opinia - wynik:\n",
      "[{'label': 'POSITIVE', 'score': 0.9998816251754761}]\n",
      "\n",
      "Negatywna opinia - wynik:\n",
      "[{'label': 'NEGATIVE', 'score': 0.9997599720954895}]\n"
     ]
    }
   ],
   "source": [
    "print(\"Pozytywna opinia - wynik:\")\n",
    "print(positive_result)\n",
    "print(\"\\nNegatywna opinia - wynik:\")\n",
    "print(negative_result)"
   ]
  }
 ],
 "metadata": {
  "kernelspec": {
   "display_name": "Python 3",
   "language": "python",
   "name": "python3"
  },
  "language_info": {
   "codemirror_mode": {
    "name": "ipython",
    "version": 3
   },
   "file_extension": ".py",
   "mimetype": "text/x-python",
   "name": "python",
   "nbconvert_exporter": "python",
   "pygments_lexer": "ipython3",
   "version": "3.10.7"
  }
 },
 "nbformat": 4,
 "nbformat_minor": 2
}
